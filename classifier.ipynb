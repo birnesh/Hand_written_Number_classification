{
 "cells": [
  {
   "cell_type": "markdown",
   "metadata": {},
   "source": [
    "# Importing packages"
   ]
  },
  {
   "cell_type": "code",
   "execution_count": 33,
   "metadata": {},
   "outputs": [
    {
     "data": {
      "text/html": [
       "        <script type=\"text/javascript\">\n",
       "        window.PlotlyConfig = {MathJaxConfig: 'local'};\n",
       "        if (window.MathJax) {MathJax.Hub.Config({SVG: {font: \"STIX-Web\"}});}\n",
       "        if (typeof require !== 'undefined') {\n",
       "        require.undef(\"plotly\");\n",
       "        requirejs.config({\n",
       "            paths: {\n",
       "                'plotly': ['https://cdn.plot.ly/plotly-latest.min']\n",
       "            }\n",
       "        });\n",
       "        require(['plotly'], function(Plotly) {\n",
       "            window._Plotly = Plotly;\n",
       "        });\n",
       "        }\n",
       "        </script>\n",
       "        "
      ]
     },
     "metadata": {},
     "output_type": "display_data"
    }
   ],
   "source": [
    "from sklearn.metrics import confusion_matrix, classification_report, accuracy_score\n",
    "from sklearn.model_selection import train_test_split\n",
    "from sklearn.model_selection import cross_val_score, KFold \n",
    "from sklearn.model_selection import RandomizedSearchCV, GridSearchCV\n",
    "from sklearn.pipeline import Pipeline\n",
    "import pandas as pd \n",
    "import matplotlib.pyplot as plt\n",
    "import seaborn as sns\n",
    "import gc\n",
    "%matplotlib inline\n",
    "\n",
    "# plotly library\n",
    "import plotly.plotly as py\n",
    "import plotly.graph_objs as go\n",
    "from plotly import tools\n",
    "from plotly.offline import init_notebook_mode, iplot\n",
    "init_notebook_mode(connected=True)"
   ]
  },
  {
   "cell_type": "markdown",
   "metadata": {},
   "source": [
    "# Importing Warnings"
   ]
  },
  {
   "cell_type": "code",
   "execution_count": 2,
   "metadata": {},
   "outputs": [],
   "source": [
    "import warnings\n",
    "from sklearn.exceptions import ConvergenceWarning\n",
    "warnings.filterwarnings(\"ignore\", category=ConvergenceWarning)"
   ]
  },
  {
   "cell_type": "markdown",
   "metadata": {},
   "source": [
    "# Function to find the best score"
   ]
  },
  {
   "cell_type": "code",
   "execution_count": 3,
   "metadata": {},
   "outputs": [],
   "source": [
    "def get_best_score(model):\n",
    "    \n",
    "    print(model.best_score_)    \n",
    "    print(model.best_params_)\n",
    "    print(model.best_estimator_)\n",
    "    \n",
    "    return model.best_score_"
   ]
  },
  {
   "cell_type": "markdown",
   "metadata": {},
   "source": [
    "# Function to find the Classsification_report and Accuracy"
   ]
  },
  {
   "cell_type": "code",
   "execution_count": 4,
   "metadata": {},
   "outputs": [],
   "source": [
    "def print_validation_report(y_true, y_pred):\n",
    "    print(\"Classification Report\")\n",
    "    print(classification_report(y_true, y_pred))\n",
    "    acc_sc = accuracy_score(y_true, y_pred)\n",
    "    print(\"Accuracy : \"+ str(acc_sc))\n",
    "    \n",
    "    return acc_sc"
   ]
  },
  {
   "cell_type": "markdown",
   "metadata": {},
   "source": [
    "# Function to find Confuction_matrix"
   ]
  },
  {
   "cell_type": "code",
   "execution_count": 5,
   "metadata": {},
   "outputs": [],
   "source": [
    "def plot_confusion_matrix(y_true, y_pred):\n",
    "    mtx = confusion_matrix(y_true, y_pred)\n",
    "    fig, ax = plt.subplots(figsize=(8,8))\n",
    "    sns.heatmap(mtx, annot=True, fmt='d', linewidths=.5,  cbar=False, ax=ax)\n",
    "    #  square=True,\n",
    "    plt.ylabel('true label')\n",
    "    plt.xlabel('predicted label')"
   ]
  },
  {
   "cell_type": "markdown",
   "metadata": {},
   "source": [
    "# Getting the data"
   ]
  },
  {
   "cell_type": "code",
   "execution_count": 9,
   "metadata": {},
   "outputs": [
    {
     "data": {
      "text/plain": [
       "25"
      ]
     },
     "execution_count": 9,
     "metadata": {},
     "output_type": "execute_result"
    }
   ],
   "source": [
    "X_test = pd.read_csv(\"/home/birnesh/Documents/MNIST/inputs/test.csv\")\n",
    "train = pd.read_csv(\"/home/birnesh/Documents/MNIST/inputs/train.csv\")\n",
    "sample_sub = pd.read_csv(\"/home/birnesh/Documents/MNIST/inputs/sample_submission.csv\")\n",
    "y_train = train[\"label\"]\n",
    "X_train = train.drop([\"label\"],axis = 1)\n",
    "del train\n",
    "gc.collect()"
   ]
  },
  {
   "cell_type": "markdown",
   "metadata": {},
   "source": [
    "# Normalizing the data"
   ]
  },
  {
   "cell_type": "code",
   "execution_count": 10,
   "metadata": {},
   "outputs": [],
   "source": [
    "X_train = X_train/255.0\n",
    "X_test = X_test/255.0"
   ]
  },
  {
   "cell_type": "markdown",
   "metadata": {},
   "source": [
    "# Spliting the train data for validation"
   ]
  },
  {
   "cell_type": "code",
   "execution_count": 11,
   "metadata": {},
   "outputs": [],
   "source": [
    "X_train, X_val, y_train , y_val = train_test_split(X_train, y_train, test_size=0.2, random_state=42)"
   ]
  },
  {
   "cell_type": "markdown",
   "metadata": {},
   "source": [
    "# Logistic Regression"
   ]
  },
  {
   "cell_type": "code",
   "execution_count": 12,
   "metadata": {},
   "outputs": [
    {
     "name": "stdout",
     "output_type": "stream",
     "text": [
      "Fitting 5 folds for each of 2 candidates, totalling 10 fits\n"
     ]
    },
    {
     "name": "stderr",
     "output_type": "stream",
     "text": [
      "[Parallel(n_jobs=-1)]: Using backend LokyBackend with 8 concurrent workers.\n",
      "[Parallel(n_jobs=-1)]: Done   6 out of  10 | elapsed:   29.7s remaining:   19.8s\n",
      "[Parallel(n_jobs=-1)]: Done  10 out of  10 | elapsed:   40.2s finished\n"
     ]
    },
    {
     "name": "stdout",
     "output_type": "stream",
     "text": [
      "0.8744940476190476\n",
      "{'C': 0.014, 'multi_class': 'multinomial', 'penalty': 'l1', 'solver': 'saga', 'tol': 0.1}\n",
      "LogisticRegression(C=0.014, class_weight=None, dual=False, fit_intercept=True,\n",
      "          intercept_scaling=1, max_iter=100, multi_class='multinomial',\n",
      "          n_jobs=None, penalty='l1', random_state=0, solver='saga',\n",
      "          tol=0.1, verbose=0, warm_start=False)\n"
     ]
    }
   ],
   "source": [
    "from sklearn.linear_model import LogisticRegression\n",
    "clf_LR = LogisticRegression(random_state=0)\n",
    "param_grid = {'C': [0.014, 0.012], 'multi_class': ['multinomial'],  \n",
    "              'penalty': ['l1'],'solver': ['saga'], 'tol': [0.1] }\n",
    "Grid_LR = GridSearchCV(clf_LR, param_grid, verbose=1, cv=5, n_jobs=-1)\n",
    "Grid_LR.fit(X_train,y_train)\n",
    "score_grid_LR = get_best_score(Grid_LR)\n"
   ]
  },
  {
   "cell_type": "code",
   "execution_count": 13,
   "metadata": {
    "scrolled": true
   },
   "outputs": [
    {
     "name": "stdout",
     "output_type": "stream",
     "text": [
      "Classification Report\n",
      "              precision    recall  f1-score   support\n",
      "\n",
      "           0       0.94      0.94      0.94       816\n",
      "           1       0.90      0.98      0.94       909\n",
      "           2       0.89      0.85      0.87       846\n",
      "           3       0.89      0.82      0.85       937\n",
      "           4       0.84      0.91      0.87       839\n",
      "           5       0.81      0.81      0.81       702\n",
      "           6       0.88      0.91      0.89       785\n",
      "           7       0.89      0.88      0.89       893\n",
      "           8       0.89      0.82      0.85       835\n",
      "           9       0.83      0.85      0.84       838\n",
      "\n",
      "   micro avg       0.88      0.88      0.88      8400\n",
      "   macro avg       0.88      0.88      0.88      8400\n",
      "weighted avg       0.88      0.88      0.88      8400\n",
      "\n",
      "Accuracy : 0.8773809523809524\n"
     ]
    }
   ],
   "source": [
    "pred_val_lr = Grid_LR.predict(X_val)\n",
    "acc_lr = print_validation_report(y_val, pred_val_lr)"
   ]
  },
  {
   "cell_type": "code",
   "execution_count": 14,
   "metadata": {},
   "outputs": [
    {
     "data": {
      "image/png": "[encoded data removed]",
      "text/plain": [
       "<Figure size 576x576 with 1 Axes>"
      ]
     },
     "metadata": {
      "needs_background": "light"
     },
     "output_type": "display_data"
    }
   ],
   "source": [
    "plot_confusion_matrix(y_val, pred_val_lr)"
   ]
  },
  {
   "cell_type": "markdown",
   "metadata": {},
   "source": [
    "# KNN"
   ]
  },
  {
   "cell_type": "code",
   "execution_count": 15,
   "metadata": {},
   "outputs": [
    {
     "data": {
      "text/plain": [
       "KNeighborsClassifier(algorithm='auto', leaf_size=30, metric='minkowski',\n",
       "           metric_params=None, n_jobs=-1, n_neighbors=10, p=2,\n",
       "           weights='uniform')"
      ]
     },
     "execution_count": 15,
     "metadata": {},
     "output_type": "execute_result"
    }
   ],
   "source": [
    "from sklearn.neighbors import KNeighborsClassifier\n",
    "clf_knn = KNeighborsClassifier(n_neighbors=10,n_jobs=-1)\n",
    "clf_knn.fit(X_train,y_train)\n"
   ]
  },
  {
   "cell_type": "code",
   "execution_count": 16,
   "metadata": {},
   "outputs": [
    {
     "name": "stdout",
     "output_type": "stream",
     "text": [
      "Classification Report\n",
      "              precision    recall  f1-score   support\n",
      "\n",
      "           0       0.97      1.00      0.98       816\n",
      "           1       0.93      1.00      0.96       909\n",
      "           2       0.99      0.94      0.96       846\n",
      "           3       0.96      0.96      0.96       937\n",
      "           4       0.98      0.96      0.97       839\n",
      "           5       0.95      0.95      0.95       702\n",
      "           6       0.97      0.99      0.98       785\n",
      "           7       0.95      0.96      0.96       893\n",
      "           8       0.98      0.91      0.95       835\n",
      "           9       0.94      0.95      0.95       838\n",
      "\n",
      "   micro avg       0.96      0.96      0.96      8400\n",
      "   macro avg       0.96      0.96      0.96      8400\n",
      "weighted avg       0.96      0.96      0.96      8400\n",
      "\n",
      "Accuracy : 0.9616666666666667\n"
     ]
    }
   ],
   "source": [
    "pred_val_knn = clf_knn.predict(X_val)\n",
    "acc_knn = print_validation_report(y_val, pred_val_knn)"
   ]
  },
  {
   "cell_type": "code",
   "execution_count": 17,
   "metadata": {},
   "outputs": [
    {
     "data": {
      "image/png": "[encoded data removed]",
      "text/plain": [
       "<Figure size 576x576 with 1 Axes>"
      ]
     },
     "metadata": {
      "needs_background": "light"
     },
     "output_type": "display_data"
    }
   ],
   "source": [
    "plot_confusion_matrix(y_val, pred_val_knn)"
   ]
  },
  {
   "cell_type": "markdown",
   "metadata": {},
   "source": [
    "# Random forest"
   ]
  },
  {
   "cell_type": "code",
   "execution_count": 18,
   "metadata": {},
   "outputs": [
    {
     "name": "stdout",
     "output_type": "stream",
     "text": [
      "Fitting 5 folds for each of 1 candidates, totalling 5 fits\n"
     ]
    },
    {
     "name": "stderr",
     "output_type": "stream",
     "text": [
      "[Parallel(n_jobs=-1)]: Using backend LokyBackend with 8 concurrent workers.\n",
      "[Parallel(n_jobs=-1)]: Done   2 out of   5 | elapsed:   27.1s remaining:   40.7s\n",
      "[Parallel(n_jobs=-1)]: Done   5 out of   5 | elapsed:   34.2s finished\n"
     ]
    },
    {
     "name": "stdout",
     "output_type": "stream",
     "text": [
      "0.955922619047619\n",
      "{'max_depth': 15, 'max_features': 100, 'min_samples_split': 5, 'n_estimators': 50}\n",
      "RandomForestClassifier(bootstrap=True, class_weight=None, criterion='gini',\n",
      "            max_depth=15, max_features=100, max_leaf_nodes=None,\n",
      "            min_impurity_decrease=0.0, min_impurity_split=None,\n",
      "            min_samples_leaf=1, min_samples_split=5,\n",
      "            min_weight_fraction_leaf=0.0, n_estimators=50, n_jobs=None,\n",
      "            oob_score=False, random_state=0, verbose=0, warm_start=False)\n"
     ]
    }
   ],
   "source": [
    "from sklearn.ensemble import RandomForestClassifier\n",
    "clf_RF = RandomForestClassifier(random_state=0)\n",
    "param_grid = {'max_depth': [15], 'max_features': [100],  \n",
    "              'min_samples_split': [5],'n_estimators' : [50] }\n",
    "GridCV_RF = GridSearchCV(clf_RF, param_grid, verbose=1, cv=5,n_jobs=-1)\n",
    "GridCV_RF.fit(X_train,y_train)\n",
    "score_grid_RF = get_best_score(GridCV_RF)"
   ]
  },
  {
   "cell_type": "code",
   "execution_count": 19,
   "metadata": {},
   "outputs": [
    {
     "name": "stdout",
     "output_type": "stream",
     "text": [
      "Classification Report\n",
      "              precision    recall  f1-score   support\n",
      "\n",
      "           0       0.97      0.99      0.98       816\n",
      "           1       0.97      0.99      0.98       909\n",
      "           2       0.95      0.95      0.95       846\n",
      "           3       0.96      0.93      0.94       937\n",
      "           4       0.95      0.96      0.96       839\n",
      "           5       0.95      0.94      0.95       702\n",
      "           6       0.96      0.98      0.97       785\n",
      "           7       0.97      0.95      0.96       893\n",
      "           8       0.95      0.95      0.95       835\n",
      "           9       0.93      0.94      0.94       838\n",
      "\n",
      "   micro avg       0.96      0.96      0.96      8400\n",
      "   macro avg       0.96      0.96      0.96      8400\n",
      "weighted avg       0.96      0.96      0.96      8400\n",
      "\n",
      "Accuracy : 0.9569047619047619\n"
     ]
    }
   ],
   "source": [
    "pred_val_rf = GridCV_RF.predict(X_val)\n",
    "acc_rf = print_validation_report(y_val, pred_val_rf)"
   ]
  },
  {
   "cell_type": "code",
   "execution_count": 18,
   "metadata": {},
   "outputs": [
    {
     "data": {
      "image/png": "[encoded data removed]",
      "text/plain": [
       "<Figure size 576x576 with 1 Axes>"
      ]
     },
     "metadata": {
      "needs_background": "light"
     },
     "output_type": "display_data"
    }
   ],
   "source": [
    "plot_confusion_matrix(y_val, pred_val_rf)"
   ]
  },
  {
   "cell_type": "markdown",
   "metadata": {},
   "source": [
    "# Support Vector Machine"
   ]
  },
  {
   "cell_type": "code",
   "execution_count": 19,
   "metadata": {},
   "outputs": [
    {
     "data": {
      "text/plain": [
       "SVC(C=5, cache_size=200, class_weight=None, coef0=0.0,\n",
       "  decision_function_shape='ovr', degree=3, gamma=0.05, kernel='rbf',\n",
       "  max_iter=-1, probability=False, random_state=0, shrinking=True,\n",
       "  tol=0.001, verbose=False)"
      ]
     },
     "execution_count": 19,
     "metadata": {},
     "output_type": "execute_result"
    }
   ],
   "source": [
    "from sklearn.svm import SVC\n",
    "clf_svm = SVC(C=5, gamma=0.05, kernel='rbf', random_state=0)\n",
    "clf_svm.fit(X_train,y_train)"
   ]
  },
  {
   "cell_type": "code",
   "execution_count": 20,
   "metadata": {},
   "outputs": [
    {
     "name": "stdout",
     "output_type": "stream",
     "text": [
      "Classification Report\n",
      "              precision    recall  f1-score   support\n",
      "\n",
      "           0       0.99      0.99      0.99       816\n",
      "           1       0.99      0.99      0.99       909\n",
      "           2       0.97      0.98      0.98       846\n",
      "           3       0.98      0.97      0.98       937\n",
      "           4       0.97      0.98      0.98       839\n",
      "           5       0.98      0.97      0.98       702\n",
      "           6       0.98      0.99      0.99       785\n",
      "           7       0.99      0.98      0.98       893\n",
      "           8       0.97      0.98      0.97       835\n",
      "           9       0.98      0.97      0.97       838\n",
      "\n",
      "   micro avg       0.98      0.98      0.98      8400\n",
      "   macro avg       0.98      0.98      0.98      8400\n",
      "weighted avg       0.98      0.98      0.98      8400\n",
      "\n",
      "Accuracy : 0.98\n"
     ]
    }
   ],
   "source": [
    "pred_val_svm = clf_svm.predict(X_val)\n",
    "acc_svm = print_validation_report(y_val, pred_val_svm)"
   ]
  },
  {
   "cell_type": "code",
   "execution_count": 21,
   "metadata": {},
   "outputs": [
    {
     "data": {
      "image/png": "[encoded data removed]",
      "text/plain": [
       "<Figure size 576x576 with 1 Axes>"
      ]
     },
     "metadata": {
      "needs_background": "light"
     },
     "output_type": "display_data"
    }
   ],
   "source": [
    "plot_confusion_matrix(y_val, pred_val_svm)"
   ]
  },
  {
   "cell_type": "markdown",
   "metadata": {},
   "source": [
    "# Logistoic Regression fitting best parameters with the entire train set"
   ]
  },
  {
   "cell_type": "code",
   "execution_count": 20,
   "metadata": {},
   "outputs": [
    {
     "name": "stdout",
     "output_type": "stream",
     "text": [
      "{'C': 0.014, 'multi_class': 'multinomial', 'penalty': 'l1', 'solver': 'saga', 'tol': 0.1}\n"
     ]
    },
    {
     "data": {
      "text/plain": [
       "LogisticRegression(C=0.014, class_weight=None, dual=False, fit_intercept=True,\n",
       "          intercept_scaling=1, max_iter=100, multi_class='multinomial',\n",
       "          n_jobs=None, penalty='l1', random_state=0, solver='saga',\n",
       "          tol=0.1, verbose=0, warm_start=False)"
      ]
     },
     "execution_count": 20,
     "metadata": {},
     "output_type": "execute_result"
    }
   ],
   "source": [
    "print(Grid_LR.best_params_)\n",
    "Grid_LR.best_estimator_.fit(X_train,y_train)"
   ]
  },
  {
   "cell_type": "code",
   "execution_count": 21,
   "metadata": {},
   "outputs": [],
   "source": [
    "pred_test_lr = Grid_LR.best_estimator_.predict(X_test)\n",
    "result_lr = pd.DataFrame({'ImageId':sample_sub.ImageId, 'Label':pred_test_lr})\n",
    "result_lr.to_csv(\"subm_lr.csv\",index=False)"
   ]
  },
  {
   "cell_type": "markdown",
   "metadata": {},
   "source": [
    "# KNN"
   ]
  },
  {
   "cell_type": "code",
   "execution_count": 22,
   "metadata": {},
   "outputs": [
    {
     "data": {
      "text/plain": [
       "KNeighborsClassifier(algorithm='auto', leaf_size=30, metric='minkowski',\n",
       "           metric_params=None, n_jobs=-1, n_neighbors=10, p=2,\n",
       "           weights='uniform')"
      ]
     },
     "execution_count": 22,
     "metadata": {},
     "output_type": "execute_result"
    }
   ],
   "source": [
    "clf_knn.fit(X_train,y_train)"
   ]
  },
  {
   "cell_type": "code",
   "execution_count": 24,
   "metadata": {},
   "outputs": [],
   "source": [
    "pred_test_knn = clf_knn.predict(X_test)\n",
    "result_knn = pd.DataFrame({'ImageId':sample_sub.ImageId, 'Label':pred_test_knn})\n",
    "result_knn.to_csv(\"subm_knn.csv\",index=False)"
   ]
  },
  {
   "cell_type": "markdown",
   "metadata": {},
   "source": [
    "# Random Forest "
   ]
  },
  {
   "cell_type": "code",
   "execution_count": 25,
   "metadata": {},
   "outputs": [
    {
     "name": "stdout",
     "output_type": "stream",
     "text": [
      "{'max_depth': 15, 'max_features': 100, 'min_samples_split': 5, 'n_estimators': 50}\n"
     ]
    },
    {
     "data": {
      "text/plain": [
       "RandomForestClassifier(bootstrap=True, class_weight=None, criterion='gini',\n",
       "            max_depth=15, max_features=100, max_leaf_nodes=None,\n",
       "            min_impurity_decrease=0.0, min_impurity_split=None,\n",
       "            min_samples_leaf=1, min_samples_split=5,\n",
       "            min_weight_fraction_leaf=0.0, n_estimators=50, n_jobs=None,\n",
       "            oob_score=False, random_state=0, verbose=0, warm_start=False)"
      ]
     },
     "execution_count": 25,
     "metadata": {},
     "output_type": "execute_result"
    }
   ],
   "source": [
    "print(GridCV_RF.best_params_)\n",
    "GridCV_RF.best_estimator_.fit(X_train,y_train)"
   ]
  },
  {
   "cell_type": "code",
   "execution_count": 26,
   "metadata": {},
   "outputs": [],
   "source": [
    "pred_test_rf = GridCV_RF.best_estimator_.predict(X_test)\n",
    "result_rf = pd.DataFrame({'ImageId':sample_sub.ImageId, 'Label':pred_test_rf})\n",
    "result_rf.to_csv(\"subm_rf.csv\",index=False)"
   ]
  },
  {
   "cell_type": "markdown",
   "metadata": {},
   "source": [
    "# SVM "
   ]
  },
  {
   "cell_type": "code",
   "execution_count": null,
   "metadata": {},
   "outputs": [],
   "source": [
    "clf_svm.fit(X_train,y_train)"
   ]
  },
  {
   "cell_type": "code",
   "execution_count": null,
   "metadata": {},
   "outputs": [],
   "source": [
    "pred_test_svm = clf_svm.predict(X_test)\n",
    "result_svm = pd.DataFrame({'ImageId':sample_sub[\"ImageId\"], 'Label':pred_test_svm})\n",
    "result_svm.to_csv(\"subm_svm.csv\",index=False)"
   ]
  },
  {
   "cell_type": "code",
   "execution_count": 29,
   "metadata": {},
   "outputs": [],
   "source": [
    "classifier_list = ['LR', 'KNN', 'RAD_FOREST']\n",
    "val_scores = [acc_lr, acc_knn, acc_rf]\n",
    "score_lr    = 0.88700\n",
    "score_knn   = 0.96557\n",
    "score_rf    = 0.96028\n",
    "test_scores = [score_lr, score_knn, score_rf]"
   ]
  },
  {
   "cell_type": "code",
   "execution_count": 36,
   "metadata": {},
   "outputs": [
    {
     "data": {
      "application/vnd.plotly.v1+json": {
       "config": {
        "linkText": "Export to plot.ly",
        "plotlyServerURL": "https://plot.ly",
        "showLink": false
       },
       "data": [
        {
         "name": "Validation",
         "text": [
          "LR",
          "KNN",
          "RAD_FOREST"
         ],
         "type": "scatter",
         "uid": "28f67fe5-95b7-41fb-a4b4-1efd66d5b811",
         "x": [
          "LR",
          "KNN",
          "RAD_FOREST"
         ],
         "y": [
          0.8773809523809524,
          0.9616666666666667,
          0.9569047619047619
         ]
        },
        {
         "name": "Submission",
         "text": [
          "LR",
          "KNN",
          "RAD_FOREST"
         ],
         "type": "scatter",
         "uid": "272b5b30-528e-4dd1-8b0a-1c98cf0ffc7b",
         "x": [
          "LR",
          "KNN",
          "RAD_FOREST"
         ],
         "y": [
          0.887,
          0.96557,
          0.96028
         ]
        }
       ],
       "layout": {
        "autosize": false,
        "height": 500,
        "legend": {
         "orientation": "v",
         "x": 1.05,
         "y": 1
        },
        "title": {
         "text": "Validation and Submission Scores"
        },
        "width": 750,
        "xaxis": {
         "ticklen": 10,
         "zeroline": false
        },
        "yaxis": {
         "side": "left",
         "ticklen": 10,
         "title": {
          "text": "Accuracy"
         }
        }
       }
      },
      "text/html": [
       "<div>\n",
       "        \n",
       "        \n",
       "            <div id=\"fdd9133e-749c-4d69-992b-fe8b6480a32c\" class=\"plotly-graph-div\" style=\"height:500px; width:750px;\"></div>\n",
       "            <script type=\"text/javascript\">\n",
       "                require([\"plotly\"], function(Plotly) {\n",
       "                    window.PLOTLYENV=window.PLOTLYENV || {};\n",
       "                    window.PLOTLYENV.BASE_URL='https://plot.ly';\n",
       "                    \n",
       "                if (document.getElementById(\"fdd9133e-749c-4d69-992b-fe8b6480a32c\")) {\n",
       "                    Plotly.newPlot(\n",
       "                        'fdd9133e-749c-4d69-992b-fe8b6480a32c',\n",
       "                        [{\"name\": \"Validation\", \"text\": [\"LR\", \"KNN\", \"RAD_FOREST\"], \"type\": \"scatter\", \"uid\": \"28f67fe5-95b7-41fb-a4b4-1efd66d5b811\", \"x\": [\"LR\", \"KNN\", \"RAD_FOREST\"], \"y\": [0.8773809523809524, 0.9616666666666667, 0.9569047619047619]}, {\"name\": \"Submission\", \"text\": [\"LR\", \"KNN\", \"RAD_FOREST\"], \"type\": \"scatter\", \"uid\": \"272b5b30-528e-4dd1-8b0a-1c98cf0ffc7b\", \"x\": [\"LR\", \"KNN\", \"RAD_FOREST\"], \"y\": [0.887, 0.96557, 0.96028]}],\n",
       "                        {\"autosize\": false, \"height\": 500, \"legend\": {\"orientation\": \"v\", \"x\": 1.05, \"y\": 1.0}, \"title\": {\"text\": \"Validation and Submission Scores\"}, \"width\": 750, \"xaxis\": {\"ticklen\": 10, \"zeroline\": false}, \"yaxis\": {\"side\": \"left\", \"ticklen\": 10, \"title\": {\"text\": \"Accuracy\"}}},\n",
       "                        {\"showLink\": false, \"linkText\": \"Export to plot.ly\", \"plotlyServerURL\": \"https://plot.ly\", \"responsive\": true}\n",
       "                    ).then(function(){\n",
       "                            \n",
       "var gd = document.getElementById('fdd9133e-749c-4d69-992b-fe8b6480a32c');\n",
       "var x = new MutationObserver(function (mutations, observer) {{\n",
       "        var display = window.getComputedStyle(gd).display;\n",
       "        if (!display || display === 'none') {{\n",
       "            console.log([gd, 'removed!']);\n",
       "            Plotly.purge(gd);\n",
       "            observer.disconnect();\n",
       "        }}\n",
       "}});\n",
       "\n",
       "// Listen for the removal of the full notebook cells\n",
       "var notebookContainer = gd.closest('#notebook-container');\n",
       "if (notebookContainer) {{\n",
       "    x.observe(notebookContainer, {childList: true});\n",
       "}}\n",
       "\n",
       "// Listen for the clearing of the current output cell\n",
       "var outputEl = gd.closest('.output');\n",
       "if (outputEl) {{\n",
       "    x.observe(outputEl, {childList: true});\n",
       "}}\n",
       "\n",
       "                        })\n",
       "                };\n",
       "                });\n",
       "            </script>\n",
       "        </div>"
      ]
     },
     "metadata": {},
     "output_type": "display_data"
    }
   ],
   "source": [
    "trace1 = go.Scatter(x = classifier_list, y = val_scores,\n",
    "                   name=\"Validation\", text = classifier_list)\n",
    "trace2 = go.Scatter(x = classifier_list, y = test_scores,\n",
    "                   name=\"Submission\", text = classifier_list)\n",
    "\n",
    "data = [trace1, trace2]\n",
    "\n",
    "layout = dict(title = \"Validation and Submission Scores\", \n",
    "              xaxis=dict(ticklen=10, zeroline= False),\n",
    "              yaxis=dict(title = \"Accuracy\", side='left', ticklen=10,),                                  \n",
    "              legend=dict(orientation=\"v\", x=1.05, y=1.0),\n",
    "              autosize=False, width=750, height=500,\n",
    "              )\n",
    "\n",
    "fig = dict(data = data, layout = layout)\n",
    "iplot(fig)  "
   ]
  }
 ],
 "metadata": {
  "kernelspec": {
   "display_name": "Python 3",
   "language": "python",
   "name": "python3"
  },
  "language_info": {
   "codemirror_mode": {
    "name": "ipython",
    "version": 3
   },
   "file_extension": ".py",
   "mimetype": "text/x-python",
   "name": "python",
   "nbconvert_exporter": "python",
   "pygments_lexer": "ipython3",
   "version": "3.7.3"
  }
 },
 "nbformat": 4,
 "nbformat_minor": 2
}
